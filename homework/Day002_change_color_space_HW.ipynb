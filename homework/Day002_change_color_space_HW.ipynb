{
 "cells": [
  {
   "cell_type": "markdown",
   "metadata": {},
   "source": [
    "# 作業\n",
    "\n",
    "使用 [Lena](http://optipng.sourceforge.net/pngtech/img/lena.png)\n",
    "\n",
    "- 改變圖片的 color space (`HLS`, `LAB`) 並呈現"
   ]
  },
  {
   "cell_type": "code",
   "execution_count": 4,
   "metadata": {},
   "outputs": [],
   "source": [
    "import cv2\n",
    "\n",
    "img_path = 'C:\\\\Users\\\\HP\\\\Desktop\\\\python_notebook\\\\'\n",
    "\n",
    "#彩色照片輸入\n",
    "img = cv2.imread(img_path+'lena.png',cv2.IMREAD_COLOR)\n",
    "\n",
    "#HLS呈現\n",
    "img_HLS = cv2.cvtColor(img,cv2.COLOR_BGR2HLS)\n",
    "\n",
    "#LAB呈現\n",
    "img_LAB = cv2.cvtColor(img,cv2.COLOR_BGR2LAB)\n",
    "\n",
    "# 為了要不斷顯示圖片，所以使用一個迴圈\n",
    "while True:\n",
    "    cv2.imshow('image',img)\n",
    "    cv2.imshow('HLS',img_HLS)\n",
    "    cv2.imshow('LAB',img_LAB)\n",
    "    \n",
    "    # 直到按下 ESC 鍵才會自動關閉視窗結束程式\n",
    "    k = cv2.waitKey(0)\n",
    "    if k == 27:\n",
    "        cv2.destroyAllWindows()\n",
    "        break"
   ]
  }
 ],
 "metadata": {
  "kernelspec": {
   "display_name": "Python 3",
   "language": "python",
   "name": "python3"
  },
  "language_info": {
   "codemirror_mode": {
    "name": "ipython",
    "version": 3
   },
   "file_extension": ".py",
   "mimetype": "text/x-python",
   "name": "python",
   "nbconvert_exporter": "python",
   "pygments_lexer": "ipython3",
   "version": "3.7.6"
  }
 },
 "nbformat": 4,
 "nbformat_minor": 2
}
