{
  "nbformat": 4,
  "nbformat_minor": 0,
  "metadata": {
    "colab": {
      "name": "Day015_Cifar_HW.ipynb",
      "provenance": []
    },
    "kernelspec": {
      "name": "python3",
      "display_name": "Python 3"
    },
    "accelerator": "GPU"
  },
  "cells": [
    {
      "cell_type": "code",
      "metadata": {
        "id": "OIgd-uP7Hk0e",
        "colab_type": "code",
        "colab": {
          "base_uri": "https://localhost:8080/",
          "height": 35
        },
        "outputId": "e5999122-80a1-40fe-c7cf-707c2500378d"
      },
      "source": [
        "from keras.models import Sequential\n",
        "from keras.layers import Convolution2D\n",
        "from keras.layers import MaxPooling2D\n",
        "from keras.layers import Flatten\n",
        "from keras.layers import Dense\n",
        "from keras.layers import Dropout\n",
        "from keras.layers import BatchNormalization\n",
        "from keras.datasets import cifar10\n",
        "from keras.layers import GlobalAveragePooling2D\n",
        "import numpy as np\n",
        "import tensorflow as tf\n",
        "from sklearn.preprocessing import OneHotEncoder\n"
      ],
      "execution_count": 1,
      "outputs": [
        {
          "output_type": "stream",
          "text": [
            "Using TensorFlow backend.\n"
          ],
          "name": "stderr"
        }
      ]
    },
    {
      "cell_type": "code",
      "metadata": {
        "id": "yBCqaIruH2Gu",
        "colab_type": "code",
        "colab": {
          "base_uri": "https://localhost:8080/",
          "height": 72
        },
        "outputId": "28097d10-b990-4041-e0da-706066dd6757"
      },
      "source": [
        "(x_train, y_train), (x_test, y_test) = cifar10.load_data()\n",
        "\n",
        "print(x_train.shape) #(50000, 32, 32, 3)\n",
        "\n",
        "## Normalize Data\n",
        "def normalize(X_train,X_test):\n",
        "        mean = np.mean(X_train,axis=(0,1,2,3))\n",
        "        std = np.std(X_train, axis=(0, 1, 2, 3))\n",
        "        X_train = (X_train-mean)/(std+1e-7)\n",
        "        X_test = (X_test-mean)/(std+1e-7) \n",
        "        return X_train, X_test,mean,std\n",
        "    \n",
        "    \n",
        "## Normalize Training and Testset    \n",
        "x_train, x_test,mean_train,std_train = normalize(x_train, x_test) "
      ],
      "execution_count": 2,
      "outputs": [
        {
          "output_type": "stream",
          "text": [
            "Downloading data from https://www.cs.toronto.edu/~kriz/cifar-10-python.tar.gz\n",
            "170500096/170498071 [==============================] - 4s 0us/step\n",
            "(50000, 32, 32, 3)\n"
          ],
          "name": "stdout"
        }
      ]
    },
    {
      "cell_type": "code",
      "metadata": {
        "id": "WtdwJrY5H3_5",
        "colab_type": "code",
        "colab": {}
      },
      "source": [
        "## OneHot Label 由(None, 1)-(None, 10)\n",
        "## ex. label=2,變成[0,0,1,0,0,0,0,0,0,0]\n",
        "one_hot=OneHotEncoder()\n",
        "y_train=one_hot.fit_transform(y_train).toarray()\n",
        "y_test=one_hot.transform(y_test).toarray()"
      ],
      "execution_count": 3,
      "outputs": []
    },
    {
      "cell_type": "code",
      "metadata": {
        "id": "BxnJ3nBqH5yx",
        "colab_type": "code",
        "colab": {
          "base_uri": "https://localhost:8080/",
          "height": 1000
        },
        "outputId": "55548bb3-2f8c-40d5-a8a4-04e69bcb2913"
      },
      "source": [
        "classifier=Sequential()\n",
        "#卷積組合\n",
        "classifier.add(Convolution2D(32,(3,3),input_shape=(32,32,3)))#32,3,3,input_shape=(32,32,3),activation='relu''\n",
        "classifier.add(BatchNormalization(momentum=0.99, epsilon=0.001))\n",
        "'''自己決定MaxPooling2D放在哪裡'''\n",
        "classifier.add(MaxPooling2D(pool_size=(2,2)))\n",
        "#卷積組合\n",
        "classifier.add(Convolution2D(32,(5,5),input_shape=(32,32,3)))\n",
        "classifier.add(BatchNormalization(momentum=0.99, epsilon=0.001))\n",
        "classifier.add(MaxPooling2D(pool_size=(3,3)))\n",
        "#flatten\n",
        "##classifier.add(Flatten())\n",
        "classifier.add(GlobalAveragePooling2D())\n",
        "\n",
        "#FC\n",
        "classifier.add(Dense(100)) #output_dim=100,activation=relu\n",
        "\n",
        "#輸出\n",
        "classifier.add(Dense(output_dim=10,activation='softmax'))\n",
        "\n",
        "#超過兩個就要選categorical_crossentrophy\n",
        "classifier.compile(optimizer = 'adam', loss = 'categorical_crossentropy', metrics = ['accuracy'])\n",
        "classifier.fit(x_train,y_train,batch_size=100,epochs=100,verbose = 1)"
      ],
      "execution_count": 4,
      "outputs": [
        {
          "output_type": "stream",
          "text": [
            "/usr/local/lib/python3.6/dist-packages/ipykernel_launcher.py:19: UserWarning: Update your `Dense` call to the Keras 2 API: `Dense(activation=\"softmax\", units=10)`\n"
          ],
          "name": "stderr"
        },
        {
          "output_type": "stream",
          "text": [
            "Epoch 1/100\n",
            "50000/50000 [==============================] - 11s 218us/step - loss: 1.5981 - accuracy: 0.4266\n",
            "Epoch 2/100\n",
            "50000/50000 [==============================] - 4s 89us/step - loss: 1.3566 - accuracy: 0.5267\n",
            "Epoch 3/100\n",
            "50000/50000 [==============================] - 4s 87us/step - loss: 1.2679 - accuracy: 0.5599\n",
            "Epoch 4/100\n",
            "50000/50000 [==============================] - 4s 86us/step - loss: 1.2205 - accuracy: 0.5774\n",
            "Epoch 5/100\n",
            "50000/50000 [==============================] - 4s 86us/step - loss: 1.1853 - accuracy: 0.5905\n",
            "Epoch 6/100\n",
            "50000/50000 [==============================] - 4s 86us/step - loss: 1.1492 - accuracy: 0.6056\n",
            "Epoch 7/100\n",
            "50000/50000 [==============================] - 4s 87us/step - loss: 1.1240 - accuracy: 0.6119\n",
            "Epoch 8/100\n",
            "50000/50000 [==============================] - 4s 87us/step - loss: 1.1028 - accuracy: 0.6196\n",
            "Epoch 9/100\n",
            "50000/50000 [==============================] - 4s 87us/step - loss: 1.0861 - accuracy: 0.6267\n",
            "Epoch 10/100\n",
            "50000/50000 [==============================] - 4s 88us/step - loss: 1.0650 - accuracy: 0.6332\n",
            "Epoch 11/100\n",
            "50000/50000 [==============================] - 4s 88us/step - loss: 1.0541 - accuracy: 0.6364\n",
            "Epoch 12/100\n",
            "50000/50000 [==============================] - 4s 86us/step - loss: 1.0386 - accuracy: 0.6427\n",
            "Epoch 13/100\n",
            "50000/50000 [==============================] - 4s 87us/step - loss: 1.0288 - accuracy: 0.6469\n",
            "Epoch 14/100\n",
            "50000/50000 [==============================] - 4s 88us/step - loss: 1.0213 - accuracy: 0.6486\n",
            "Epoch 15/100\n",
            "50000/50000 [==============================] - 4s 88us/step - loss: 1.0048 - accuracy: 0.6537\n",
            "Epoch 16/100\n",
            "50000/50000 [==============================] - 4s 87us/step - loss: 0.9940 - accuracy: 0.6580\n",
            "Epoch 17/100\n",
            "50000/50000 [==============================] - 4s 87us/step - loss: 0.9924 - accuracy: 0.6586\n",
            "Epoch 18/100\n",
            "50000/50000 [==============================] - 4s 87us/step - loss: 0.9860 - accuracy: 0.6609\n",
            "Epoch 19/100\n",
            "50000/50000 [==============================] - 4s 87us/step - loss: 0.9778 - accuracy: 0.6665\n",
            "Epoch 20/100\n",
            "50000/50000 [==============================] - 4s 87us/step - loss: 0.9683 - accuracy: 0.6662\n",
            "Epoch 21/100\n",
            "50000/50000 [==============================] - 4s 87us/step - loss: 0.9643 - accuracy: 0.6682\n",
            "Epoch 22/100\n",
            "50000/50000 [==============================] - 4s 87us/step - loss: 0.9558 - accuracy: 0.6713\n",
            "Epoch 23/100\n",
            "50000/50000 [==============================] - 4s 87us/step - loss: 0.9473 - accuracy: 0.6762\n",
            "Epoch 24/100\n",
            "50000/50000 [==============================] - 4s 87us/step - loss: 0.9398 - accuracy: 0.6775\n",
            "Epoch 25/100\n",
            "50000/50000 [==============================] - 4s 89us/step - loss: 0.9369 - accuracy: 0.6791\n",
            "Epoch 26/100\n",
            "50000/50000 [==============================] - 4s 90us/step - loss: 0.9291 - accuracy: 0.6807\n",
            "Epoch 27/100\n",
            "50000/50000 [==============================] - 4s 90us/step - loss: 0.9273 - accuracy: 0.6805\n",
            "Epoch 28/100\n",
            "50000/50000 [==============================] - 4s 85us/step - loss: 0.9225 - accuracy: 0.6815\n",
            "Epoch 29/100\n",
            "50000/50000 [==============================] - 4s 85us/step - loss: 0.9135 - accuracy: 0.6859\n",
            "Epoch 30/100\n",
            "50000/50000 [==============================] - 4s 87us/step - loss: 0.9091 - accuracy: 0.6872\n",
            "Epoch 31/100\n",
            "50000/50000 [==============================] - 4s 86us/step - loss: 0.9083 - accuracy: 0.6891\n",
            "Epoch 32/100\n",
            "50000/50000 [==============================] - 4s 87us/step - loss: 0.9028 - accuracy: 0.6887\n",
            "Epoch 33/100\n",
            "50000/50000 [==============================] - 4s 87us/step - loss: 0.8949 - accuracy: 0.6918\n",
            "Epoch 34/100\n",
            "50000/50000 [==============================] - 4s 86us/step - loss: 0.8966 - accuracy: 0.6908\n",
            "Epoch 35/100\n",
            "50000/50000 [==============================] - 4s 85us/step - loss: 0.8899 - accuracy: 0.6935\n",
            "Epoch 36/100\n",
            "50000/50000 [==============================] - 4s 86us/step - loss: 0.8895 - accuracy: 0.6920\n",
            "Epoch 37/100\n",
            "50000/50000 [==============================] - 4s 86us/step - loss: 0.8836 - accuracy: 0.6972\n",
            "Epoch 38/100\n",
            "50000/50000 [==============================] - 4s 85us/step - loss: 0.8795 - accuracy: 0.6957\n",
            "Epoch 39/100\n",
            "50000/50000 [==============================] - 4s 85us/step - loss: 0.8737 - accuracy: 0.6985\n",
            "Epoch 40/100\n",
            "50000/50000 [==============================] - 4s 85us/step - loss: 0.8710 - accuracy: 0.6984\n",
            "Epoch 41/100\n",
            "50000/50000 [==============================] - 4s 85us/step - loss: 0.8693 - accuracy: 0.6998\n",
            "Epoch 42/100\n",
            "50000/50000 [==============================] - 4s 85us/step - loss: 0.8690 - accuracy: 0.6969\n",
            "Epoch 43/100\n",
            "50000/50000 [==============================] - 4s 86us/step - loss: 0.8626 - accuracy: 0.7022\n",
            "Epoch 44/100\n",
            "50000/50000 [==============================] - 4s 86us/step - loss: 0.8594 - accuracy: 0.7006\n",
            "Epoch 45/100\n",
            "50000/50000 [==============================] - 4s 86us/step - loss: 0.8538 - accuracy: 0.7044\n",
            "Epoch 46/100\n",
            "50000/50000 [==============================] - 4s 86us/step - loss: 0.8540 - accuracy: 0.7045\n",
            "Epoch 47/100\n",
            "50000/50000 [==============================] - 4s 86us/step - loss: 0.8484 - accuracy: 0.7060\n",
            "Epoch 48/100\n",
            "50000/50000 [==============================] - 4s 86us/step - loss: 0.8493 - accuracy: 0.7054\n",
            "Epoch 49/100\n",
            "50000/50000 [==============================] - 4s 85us/step - loss: 0.8457 - accuracy: 0.7053\n",
            "Epoch 50/100\n",
            "50000/50000 [==============================] - 4s 86us/step - loss: 0.8413 - accuracy: 0.7080\n",
            "Epoch 51/100\n",
            "50000/50000 [==============================] - 4s 87us/step - loss: 0.8362 - accuracy: 0.7120\n",
            "Epoch 52/100\n",
            "50000/50000 [==============================] - 4s 86us/step - loss: 0.8382 - accuracy: 0.7090\n",
            "Epoch 53/100\n",
            "50000/50000 [==============================] - 4s 86us/step - loss: 0.8321 - accuracy: 0.7113\n",
            "Epoch 54/100\n",
            "50000/50000 [==============================] - 4s 86us/step - loss: 0.8285 - accuracy: 0.7111\n",
            "Epoch 55/100\n",
            "50000/50000 [==============================] - 4s 85us/step - loss: 0.8221 - accuracy: 0.7159\n",
            "Epoch 56/100\n",
            "50000/50000 [==============================] - 4s 84us/step - loss: 0.8230 - accuracy: 0.7141\n",
            "Epoch 57/100\n",
            "50000/50000 [==============================] - 4s 85us/step - loss: 0.8254 - accuracy: 0.7130\n",
            "Epoch 58/100\n",
            "50000/50000 [==============================] - 4s 85us/step - loss: 0.8186 - accuracy: 0.7169\n",
            "Epoch 59/100\n",
            "50000/50000 [==============================] - 4s 85us/step - loss: 0.8216 - accuracy: 0.7146\n",
            "Epoch 60/100\n",
            "50000/50000 [==============================] - 4s 86us/step - loss: 0.8162 - accuracy: 0.7142\n",
            "Epoch 61/100\n",
            "50000/50000 [==============================] - 4s 85us/step - loss: 0.8100 - accuracy: 0.7190\n",
            "Epoch 62/100\n",
            "50000/50000 [==============================] - 4s 85us/step - loss: 0.8129 - accuracy: 0.7185\n",
            "Epoch 63/100\n",
            "50000/50000 [==============================] - 4s 85us/step - loss: 0.8083 - accuracy: 0.7178\n",
            "Epoch 64/100\n",
            "50000/50000 [==============================] - 4s 85us/step - loss: 0.8084 - accuracy: 0.7164\n",
            "Epoch 65/100\n",
            "50000/50000 [==============================] - 4s 85us/step - loss: 0.8042 - accuracy: 0.7212\n",
            "Epoch 66/100\n",
            "50000/50000 [==============================] - 4s 85us/step - loss: 0.8081 - accuracy: 0.7182\n",
            "Epoch 67/100\n",
            "50000/50000 [==============================] - 4s 84us/step - loss: 0.7961 - accuracy: 0.7241\n",
            "Epoch 68/100\n",
            "50000/50000 [==============================] - 4s 84us/step - loss: 0.8003 - accuracy: 0.7214\n",
            "Epoch 69/100\n",
            "50000/50000 [==============================] - 4s 85us/step - loss: 0.7959 - accuracy: 0.7227\n",
            "Epoch 70/100\n",
            "50000/50000 [==============================] - 4s 86us/step - loss: 0.7935 - accuracy: 0.7240\n",
            "Epoch 71/100\n",
            "50000/50000 [==============================] - 4s 85us/step - loss: 0.7918 - accuracy: 0.7244\n",
            "Epoch 72/100\n",
            "50000/50000 [==============================] - 4s 85us/step - loss: 0.7891 - accuracy: 0.7280\n",
            "Epoch 73/100\n",
            "50000/50000 [==============================] - 4s 84us/step - loss: 0.7897 - accuracy: 0.7257\n",
            "Epoch 74/100\n",
            "50000/50000 [==============================] - 4s 85us/step - loss: 0.7924 - accuracy: 0.7223\n",
            "Epoch 75/100\n",
            "50000/50000 [==============================] - 4s 85us/step - loss: 0.7863 - accuracy: 0.7263\n",
            "Epoch 76/100\n",
            "50000/50000 [==============================] - 4s 84us/step - loss: 0.7843 - accuracy: 0.7294\n",
            "Epoch 77/100\n",
            "50000/50000 [==============================] - 4s 85us/step - loss: 0.7811 - accuracy: 0.7280\n",
            "Epoch 78/100\n",
            "50000/50000 [==============================] - 4s 84us/step - loss: 0.7796 - accuracy: 0.7296\n",
            "Epoch 79/100\n",
            "50000/50000 [==============================] - 4s 84us/step - loss: 0.7832 - accuracy: 0.7264\n",
            "Epoch 80/100\n",
            "50000/50000 [==============================] - 4s 84us/step - loss: 0.7723 - accuracy: 0.7333\n",
            "Epoch 81/100\n",
            "50000/50000 [==============================] - 4s 87us/step - loss: 0.7737 - accuracy: 0.7279\n",
            "Epoch 82/100\n",
            "50000/50000 [==============================] - 4s 86us/step - loss: 0.7747 - accuracy: 0.7292\n",
            "Epoch 83/100\n",
            "50000/50000 [==============================] - 4s 84us/step - loss: 0.7722 - accuracy: 0.7301\n",
            "Epoch 84/100\n",
            "50000/50000 [==============================] - 4s 84us/step - loss: 0.7676 - accuracy: 0.7320\n",
            "Epoch 85/100\n",
            "50000/50000 [==============================] - 4s 84us/step - loss: 0.7666 - accuracy: 0.7337\n",
            "Epoch 86/100\n",
            "50000/50000 [==============================] - 4s 85us/step - loss: 0.7632 - accuracy: 0.7355\n",
            "Epoch 87/100\n",
            "50000/50000 [==============================] - 4s 84us/step - loss: 0.7647 - accuracy: 0.7331\n",
            "Epoch 88/100\n",
            "50000/50000 [==============================] - 4s 85us/step - loss: 0.7601 - accuracy: 0.7334\n",
            "Epoch 89/100\n",
            "50000/50000 [==============================] - 4s 85us/step - loss: 0.7635 - accuracy: 0.7331\n",
            "Epoch 90/100\n",
            "50000/50000 [==============================] - 4s 85us/step - loss: 0.7589 - accuracy: 0.7365\n",
            "Epoch 91/100\n",
            "50000/50000 [==============================] - 4s 84us/step - loss: 0.7600 - accuracy: 0.7343\n",
            "Epoch 92/100\n",
            "50000/50000 [==============================] - 4s 85us/step - loss: 0.7587 - accuracy: 0.7357\n",
            "Epoch 93/100\n",
            "50000/50000 [==============================] - 4s 85us/step - loss: 0.7562 - accuracy: 0.7367\n",
            "Epoch 94/100\n",
            "50000/50000 [==============================] - 4s 84us/step - loss: 0.7511 - accuracy: 0.7375\n",
            "Epoch 95/100\n",
            "50000/50000 [==============================] - 4s 85us/step - loss: 0.7535 - accuracy: 0.7380\n",
            "Epoch 96/100\n",
            "50000/50000 [==============================] - 4s 86us/step - loss: 0.7516 - accuracy: 0.7367\n",
            "Epoch 97/100\n",
            "50000/50000 [==============================] - 4s 85us/step - loss: 0.7500 - accuracy: 0.7389\n",
            "Epoch 98/100\n",
            "50000/50000 [==============================] - 4s 90us/step - loss: 0.7498 - accuracy: 0.7387\n",
            "Epoch 99/100\n",
            "50000/50000 [==============================] - 4s 89us/step - loss: 0.7440 - accuracy: 0.7409\n",
            "Epoch 100/100\n",
            "50000/50000 [==============================] - 4s 87us/step - loss: 0.7495 - accuracy: 0.7395\n"
          ],
          "name": "stdout"
        },
        {
          "output_type": "execute_result",
          "data": {
            "text/plain": [
              "<keras.callbacks.callbacks.History at 0x7f8ca008bda0>"
            ]
          },
          "metadata": {
            "tags": []
          },
          "execution_count": 4
        }
      ]
    },
    {
      "cell_type": "code",
      "metadata": {
        "id": "Z4KKWXuuIcAH",
        "colab_type": "code",
        "colab": {
          "base_uri": "https://localhost:8080/",
          "height": 72
        },
        "outputId": "d535f24d-30bc-4fdc-991e-011a51905f4b"
      },
      "source": [
        "input_example=(np.zeros(shape=(1,32,32,3))-mean_train)/(std_train+1e-7) \n",
        "classifier.predict(input_example)"
      ],
      "execution_count": 5,
      "outputs": [
        {
          "output_type": "execute_result",
          "data": {
            "text/plain": [
              "array([[0.00675505, 0.00726382, 0.08186439, 0.10548773, 0.39933294,\n",
              "        0.03040555, 0.347094  , 0.01354788, 0.00141565, 0.00683301]],\n",
              "      dtype=float32)"
            ]
          },
          "metadata": {
            "tags": []
          },
          "execution_count": 5
        }
      ]
    }
  ]
}